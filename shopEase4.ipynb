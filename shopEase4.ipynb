{
 "cells": [
  {
   "cell_type": "markdown",
   "metadata": {},
   "source": [
    "# Lab Exercise 4: Database Optimization"
   ]
  },
  {
   "cell_type": "code",
   "execution_count": null,
   "metadata": {
    "vscode": {
     "languageId": "sql"
    }
   },
   "outputs": [],
   "source": [
    "-- Using Explain on a query\n",
    "EXPLAIN (SELECT * \n",
    "FROM sales \n",
    "WHERE sales.day = '1' \n",
    "AND \n",
    "sales.month = '12' \n",
    "AND sales.category LIKE 'Home%%');"
   ]
  },
  {
   "cell_type": "code",
   "execution_count": null,
   "metadata": {
    "vscode": {
     "languageId": "sql"
    }
   },
   "outputs": [],
   "source": [
    "-- Creating Index to optimize the query\n",
    "CREATE index dayidx ON sales(day);\n",
    "CREATE index monthidx ON sales(month);"
   ]
  }
 ],
 "metadata": {
  "language_info": {
   "name": "python"
  }
 },
 "nbformat": 4,
 "nbformat_minor": 2
}
