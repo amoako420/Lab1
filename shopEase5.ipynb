{
 "cells": [
  {
   "cell_type": "markdown",
   "metadata": {},
   "source": [
    "# Lab Exercise 5: Integrating Python with SQL for Data Engineering"
   ]
  },
  {
   "cell_type": "code",
   "execution_count": 20,
   "metadata": {},
   "outputs": [],
   "source": [
    "# Importing the important libraries\n",
    "import pandas as pd\n",
    "import mysql.connector\n",
    "from mysql.connector import Error\n",
    "import mydb_config\n",
    "import numpy as np"
   ]
  },
  {
   "cell_type": "code",
   "execution_count": 21,
   "metadata": {},
   "outputs": [],
   "source": [
    "# Reading the csv file\n",
    "order_items = pd.read_csv('./ShopEase Data/order_items.csv')"
   ]
  },
  {
   "cell_type": "code",
   "execution_count": null,
   "metadata": {},
   "outputs": [],
   "source": [
    "# Converting the order items to int16\n",
    "order_item = (order_items.astype('Int16'))"
   ]
  },
  {
   "cell_type": "markdown",
   "metadata": {},
   "source": [
    "# Pushing order_items table into database"
   ]
  },
  {
   "cell_type": "code",
   "execution_count": null,
   "metadata": {},
   "outputs": [],
   "source": [
    "\n",
    "import mydb_config  \n",
    "\n",
    "connection = None\n",
    "\n",
    "try:\n",
    "    connection =  mysql.connector.connect(\n",
    "        host= mydb_config.host(),\n",
    "        user = mydb_config.user(),\n",
    "        password = mydb_config.password(),\n",
    "        database = mydb_config.database()\n",
    "    )\n",
    "\n",
    "    if connection.is_connected():\n",
    "        cursor = connection.cursor()\n",
    "        for index, row in order_item.iterrows():\n",
    "            cursor.execute(\"\"\"\n",
    "                INSERT INTO order_items (order_detail_id, order_id, quantity, product_id)\n",
    "                VALUES (%s, %s, %s, %s)\n",
    "            \"\"\", (row['order_detail_id'], row['order_id'], row['quantity'], row['product_id']))\n",
    "            connection.commit()\n",
    "\n",
    "except Error as e:\n",
    "        print(f\"Error: {e}\")\n",
    "        connection.rollback()\n",
    "finally:\n",
    "        if connection and connection.is_connected():\n",
    "            cursor.close()"
   ]
  }
 ],
 "metadata": {
  "kernelspec": {
   "display_name": "Python 3",
   "language": "python",
   "name": "python3"
  },
  "language_info": {
   "codemirror_mode": {
    "name": "ipython",
    "version": 3
   },
   "file_extension": ".py",
   "mimetype": "text/x-python",
   "name": "python",
   "nbconvert_exporter": "python",
   "pygments_lexer": "ipython3",
   "version": "3.12.4"
  }
 },
 "nbformat": 4,
 "nbformat_minor": 2
}
